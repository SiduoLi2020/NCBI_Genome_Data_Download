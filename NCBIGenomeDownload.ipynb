{
 "cells": [
  {
   "cell_type": "code",
   "execution_count": 1,
   "metadata": {},
   "outputs": [],
   "source": [
    "import subprocess\n",
    "import re\n",
    "import argparse"
   ]
  },
  {
   "cell_type": "code",
   "execution_count": 2,
   "metadata": {},
   "outputs": [
    {
     "name": "stdout",
     "output_type": "stream",
     "text": [
      "Requirement already satisfied: pandas in /home/lsd/.local/lib/python3.8/site-packages (1.4.3)\n",
      "Requirement already satisfied: python-dateutil>=2.8.1 in /home/lsd/.local/lib/python3.8/site-packages (from pandas) (2.8.2)\n",
      "Requirement already satisfied: numpy>=1.18.5; platform_machine != \"aarch64\" and platform_machine != \"arm64\" and python_version < \"3.10\" in /home/lsd/.local/lib/python3.8/site-packages (from pandas) (1.19.2)\n",
      "Requirement already satisfied: pytz>=2020.1 in /home/lsd/.local/lib/python3.8/site-packages (from pandas) (2022.1)\n",
      "Requirement already satisfied: six>=1.5 in /usr/lib/python3/dist-packages (from python-dateutil>=2.8.1->pandas) (1.14.0)\n",
      "Requirement already satisfied: numpy in /home/lsd/.local/lib/python3.8/site-packages (1.19.2)\n",
      "Requirement already satisfied: requests in /usr/lib/python3/dist-packages (2.22.0)\n"
     ]
    },
    {
     "data": {
      "text/plain": [
       "0"
      ]
     },
     "execution_count": 2,
     "metadata": {},
     "output_type": "execute_result"
    }
   ],
   "source": [
    "class NameException(Exception): pass\n",
    "subprocess.call(\"pip3 install pandas\",shell=True)\n",
    "subprocess.call(\"pip3 install requests\",shell= True)"
   ]
  },
  {
   "cell_type": "code",
   "execution_count": 3,
   "metadata": {},
   "outputs": [],
   "source": [
    "import pandas as pd\n",
    "import numpy as np\n",
    "import requests"
   ]
  },
  {
   "cell_type": "code",
   "execution_count": 4,
   "metadata": {},
   "outputs": [],
   "source": [
    "def loadIDtable(IDtable):\n",
    "    SpeciesTable = pd.read_csv(IDtable,names=['GeneBnakAssemblyID','GenBankreleaseID','RefSeqAssemblyID','RefSeqreleaseID'],\n",
    "    sep='\\t',header=0,index_col=False)\n",
    "    return SpeciesTable"
   ]
  },
  {
   "cell_type": "code",
   "execution_count": 11,
   "metadata": {},
   "outputs": [
    {
     "name": "stdout",
     "output_type": "stream",
     "text": [
      "Finish search from NCBI: Mycobacterium_abscessus \tToal: 3\n"
     ]
    }
   ],
   "source": [
    "if __name__ == \"__main__\":\n",
    "    \n",
    "    inputName = 'Mycobacterium_abscessus'\n",
    "    DataOrigin = 'Ref'\n",
    "    SpeciesTable = loadIDtable('./IDtable_test.txt')\n",
    "\n",
    "    if DataOrigin == 'GB':\n",
    "        TableColumn = 0\n",
    "    elif DataOrigin == \"Ref\":\n",
    "        TableColumn = 2\n",
    "    else:\n",
    "        raise NameException(\"Error: please choose database: GB/Ref!\")\n",
    "\n",
    "    SpeciesAssembly = SpeciesTable[SpeciesTable.columns[TableColumn]]\n",
    "    \n",
    "    count = 0\n",
    "    ContextFilename = inputName + '_Context.txt'\n",
    "    with open(ContextFilename, \"w\") as f:\n",
    "        for i in SpeciesAssembly:\n",
    "            try:\n",
    "                TestUrl = 'https://ftp.ncbi.nlm.nih.gov/genomes/all/'+ i[0:3] +'/'+ i[4:7] +'/'+ i[7:10] + '/'+ i[10:13] +'/'\n",
    "                request = requests.get(TestUrl)\n",
    "                raw_list = re.compile(r'<a.*?>(.*?)</a>').finditer(request.text.strip())\n",
    "\n",
    "                for j in raw_list:\n",
    "                    x = j.group(1)\n",
    "                    if x[0:3] == 'GCF':\n",
    "                        count = count + 1\n",
    "                        fnafile = x[:-1] + \"_genomic.fna.gz\"\n",
    "                        finalUrl_https = TestUrl + x + fnafile\n",
    "                        finalUrl_rsync = finalUrl_https.replace(\"https\",\"rsync\")\n",
    "                            \n",
    "                        f.write(finalUrl_rsync)\n",
    "                        f.write('\\n')\n",
    "                        #print(finalUrl_rsync)\n",
    "            except TypeError as E:\n",
    "                pass\n",
    "    print(\"Finish search from NCBI:\",inputName,\"\\tToal:\",count)"
   ]
  },
  {
   "cell_type": "code",
   "execution_count": 10,
   "metadata": {},
   "outputs": [
    {
     "ename": "TypeError",
     "evalue": "'float' object is not subscriptable",
     "output_type": "error",
     "traceback": [
      "\u001b[0;31m---------------------------------------------------------------------------\u001b[0m",
      "\u001b[0;31mTypeError\u001b[0m                                 Traceback (most recent call last)",
      "\u001b[1;32m/mnt/e/NCBI_refseq/NCBI_Refseq_Download_fna_gbff/NCBIGenomeDownload.ipynb Cell 6\u001b[0m in \u001b[0;36m<cell line: 1>\u001b[0;34m()\u001b[0m\n\u001b[0;32m----> <a href='vscode-notebook-cell://wsl%2Bubuntu/mnt/e/NCBI_refseq/NCBI_Refseq_Download_fna_gbff/NCBIGenomeDownload.ipynb#W5sdnNjb2RlLXJlbW90ZQ%3D%3D?line=0'>1</a>\u001b[0m i[\u001b[39m1\u001b[39;49m]\n",
      "\u001b[0;31mTypeError\u001b[0m: 'float' object is not subscriptable"
     ]
    }
   ],
   "source": []
  }
 ],
 "metadata": {
  "kernelspec": {
   "display_name": "Python 3.10.8 64-bit (microsoft store)",
   "language": "python",
   "name": "python3"
  },
  "language_info": {
   "codemirror_mode": {
    "name": "ipython",
    "version": 3
   },
   "file_extension": ".py",
   "mimetype": "text/x-python",
   "name": "python",
   "nbconvert_exporter": "python",
   "pygments_lexer": "ipython3",
   "version": "3.10.8"
  },
  "orig_nbformat": 4,
  "vscode": {
   "interpreter": {
    "hash": "5c1f741a4f83aa020b4b2a4d7353a073a4e5e4a855a3258a20da40294ddbf005"
   }
  }
 },
 "nbformat": 4,
 "nbformat_minor": 2
}
